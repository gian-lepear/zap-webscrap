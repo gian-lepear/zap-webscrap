{
 "cells": [
  {
   "cell_type": "code",
   "execution_count": 1,
   "metadata": {},
   "outputs": [],
   "source": [
    "from bs4 import BeautifulSoup\n",
    "import pandas as pd\n",
    "import numpy as np\n",
    "import urllib\n",
    "from time import sleep\n",
    "import requests\n",
    "import concurrent\n",
    "from tqdm import tqdm"
   ]
  },
  {
   "cell_type": "code",
   "execution_count": 2,
   "metadata": {},
   "outputs": [],
   "source": [
    "def urls():\n",
    "    url_centro = 'https://www.zapimoveis.com.br/venda/casas/agr+sp+sao-paulo+regiao-do-centro/'\n",
    "    url_sul    = 'https://www.zapimoveis.com.br/venda/casas/agr+sp+sao-paulo+zona-sul/'\n",
    "    url_norte  = 'https://www.zapimoveis.com.br/venda/casas/agr+sp+sao-paulo+zona-norte/'\n",
    "    url_oeste  = 'https://www.zapimoveis.com.br/venda/casas/agr+sp+sao-paulo+zona-oeste/'\n",
    "    url_leste  = 'https://www.zapimoveis.com.br/venda/casas/agr+sp+sao-paulo+zona-leste/'\n",
    "\n",
    "    return [url_centro,url_sul,url_norte ,url_oeste,url_leste ]"
   ]
  },
  {
   "cell_type": "code",
   "execution_count": 3,
   "metadata": {},
   "outputs": [],
   "source": [
    "def criaHeader():\n",
    "    headers = requests.utils.default_headers()\n",
    "    headers.update({\n",
    "        \"User-Agent\":\"Mozilla/5.0 (Windows NT 6.3; WOW64) AppleWebKit/537.36 (KHTML, like Gecko) Chrome/59.0.3071.115 Safari/537.36\"\n",
    "    })\n",
    "    return headers"
   ]
  },
  {
   "cell_type": "code",
   "execution_count": 4,
   "metadata": {},
   "outputs": [],
   "source": [
    "def batch(iterable, n=1):\n",
    "    l = len(iterable)\n",
    "    for ndx in np.arange(0, l, n):\n",
    "        yield iterable[ndx:min(ndx + n, l)]"
   ]
  },
  {
   "cell_type": "code",
   "execution_count": 42,
   "metadata": {},
   "outputs": [],
   "source": [
    "# vamos pegar o numero de paginas da url\n",
    "def numPag(url, header):\n",
    "    lista_retorno = []\n",
    "    for url_site in  tqdm(url):\n",
    "        r = requests.get(str(url_site), headers=header)\n",
    "        soup = BeautifulSoup(r.content, 'lxml')\n",
    "        lista_retorno.append(int(soup.find('span',{'class':'pull-right num-of'}).text.replace('de ', '').replace('.', '')))\n",
    "        sleep(2)\n",
    "    # numero de paginas\n",
    "    return lista_retorno"
   ]
  },
  {
   "cell_type": "code",
   "execution_count": 41,
   "metadata": {},
   "outputs": [],
   "source": [
    "def soup_url(url, num_pag):\n",
    "    lista = []\n",
    "    if type(url) is list:\n",
    "        ij=0\n",
    "        for num in tqdm(num_pag):\n",
    "            for i in range(1, num+1):\n",
    "                url_compl = '#{\"pagina\":\"'+str(i)+'\",\"formato\":\"Lista\"}'\n",
    "                lista.append(url[ij] + url_compl)\n",
    "            ij=ij+1\n",
    "    else:\n",
    "        for i in tqdm(range(1, num_pag+1)):\n",
    "            url_compl = '#{\"pagina\":\"'+str(i)+'\",\"formato\":\"Lista\"}'\n",
    "            lista.append(url + url_compl)\n",
    "    return np.array(lista)"
   ]
  },
  {
   "cell_type": "code",
   "execution_count": 35,
   "metadata": {},
   "outputs": [],
   "source": [
    "def retornaSoup(url, header):\n",
    "    r = requests.get(url, headers=header)\n",
    "    sleep(3)\n",
    "    return r.content"
   ]
  },
  {
   "cell_type": "code",
   "execution_count": 8,
   "metadata": {},
   "outputs": [],
   "source": [
    "def retornaBSoup(html):\n",
    "    return BeautifulSoup(html, 'lxml')"
   ]
  },
  {
   "cell_type": "code",
   "execution_count": 9,
   "metadata": {},
   "outputs": [],
   "source": [
    "def salvaListaComprimida(lista):\n",
    "    np.savez_compressed('save', lista)"
   ]
  },
  {
   "cell_type": "code",
   "execution_count": 33,
   "metadata": {},
   "outputs": [],
   "source": [
    "def carregaListaComprimida(arquivo):\n",
    "    with np.load(arquivo) as data:\n",
    "        a = data.items()\n",
    "    return a[0][1]"
   ]
  },
  {
   "cell_type": "code",
   "execution_count": 47,
   "metadata": {},
   "outputs": [
    {
     "name": "stdout",
     "output_type": "stream",
     "text": [
      "Wall time: 0 ns\n"
     ]
    }
   ],
   "source": [
    "# retorna uma lista com o html de todas as paginas\n",
    "def retornaListaHTML(lista_url):\n",
    "    lista_html = []\n",
    "    tamanho_batch = round((len(lista_url)/100) * 8)\n",
    "    total = round(len(lista_url)/tamanho_batch)\n",
    "\n",
    "    for lista in tqdm(batch(lista_url, tamanho_batch),total=total):\n",
    "        with concurrent.futures.ThreadPoolExecutor() as executor:\n",
    "            result = executor.map(retornaSoup, lista)\n",
    "            lista_html.append(list(result))\n",
    "    return lista_html"
   ]
  },
  {
   "cell_type": "code",
   "execution_count": 32,
   "metadata": {},
   "outputs": [],
   "source": [
    "lista_html = []\n",
    "lista_html = carregaListaComprimida('save.npz')"
   ]
  },
  {
   "cell_type": "code",
   "execution_count": 34,
   "metadata": {},
   "outputs": [],
   "source": [
    "url_lista = urls()"
   ]
  },
  {
   "cell_type": "code",
   "execution_count": 37,
   "metadata": {},
   "outputs": [],
   "source": [
    "header = criaHeader()"
   ]
  },
  {
   "cell_type": "code",
   "execution_count": 40,
   "metadata": {},
   "outputs": [
    {
     "name": "stderr",
     "output_type": "stream",
     "text": [
      "100%|████████████████████████████████████████████████████████████████████████████████████| 5/5 [00:21<00:00,  4.33s/it]\n"
     ]
    }
   ],
   "source": [
    "lista_numPag = numPag(url_lista, header)"
   ]
  },
  {
   "cell_type": "code",
   "execution_count": 43,
   "metadata": {},
   "outputs": [
    {
     "name": "stderr",
     "output_type": "stream",
     "text": [
      "100%|██████████████████████████████████████████████████████████████████████████████████| 5/5 [00:00<00:00, 1248.83it/s]\n"
     ]
    }
   ],
   "source": [
    "url_lista_todos = soup_url(url_lista, lista_numPag)"
   ]
  },
  {
   "cell_type": "code",
   "execution_count": null,
   "metadata": {},
   "outputs": [],
   "source": [
    "if len(lista_html) == 0:\n",
    "    lista_html = retornaListaHTML(url_lista_todos)"
   ]
  }
 ],
 "metadata": {
  "kernelspec": {
   "display_name": "Python 3",
   "language": "python",
   "name": "python3"
  },
  "language_info": {
   "codemirror_mode": {
    "name": "ipython",
    "version": 3
   },
   "file_extension": ".py",
   "mimetype": "text/x-python",
   "name": "python",
   "nbconvert_exporter": "python",
   "pygments_lexer": "ipython3",
   "version": "3.6.1"
  }
 },
 "nbformat": 4,
 "nbformat_minor": 2
}
