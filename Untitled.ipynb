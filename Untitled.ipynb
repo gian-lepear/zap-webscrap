{
 "cells": [
  {
   "cell_type": "code",
   "execution_count": 1,
   "metadata": {},
   "outputs": [],
   "source": [
    "from bs4 import BeautifulSoup\n",
    "import pandas as pd\n",
    "import numpy as np\n",
    "import urllib\n",
    "from time import sleep\n",
    "import requests\n",
    "import concurrent"
   ]
  },
  {
   "cell_type": "markdown",
   "metadata": {},
   "source": [
    "### Links por zona\n",
    "centro\n",
    "https://www.zapimoveis.com.br/venda/casas/agr+sp+sao-paulo+regiao-do-centro/#{\"pagina\":\"5\",\"formato\":\"Lista\"}\n",
    "\n",
    "leste\n",
    "https://www.zapimoveis.com.br/venda/casas/agr+sp+sao-paulo+zona-leste/#{\"pagina\":\"5\",\"formato\":\"Lista\"}\n",
    "\n",
    "sul\n",
    "https://www.zapimoveis.com.br/venda/casas/agr+sp+sao-paulo+zona-sul/#{\"pagina\":\"5\",\"formato\":\"Lista\"}\n",
    "\n",
    "norte\n",
    "https://www.zapimoveis.com.br/venda/casas/agr+sp+sao-paulo+zona-norte/#{\"pagina\":\"5\",\"formato\":\"Lista\"}\n",
    "\n",
    "oeste\n",
    "https://www.zapimoveis.com.br/venda/casas/agr+sp+sao-paulo+zona-oeste/#{\"pagina\":\"5\",\"formato\":\"Lista\"}"
   ]
  },
  {
   "cell_type": "code",
   "execution_count": 2,
   "metadata": {},
   "outputs": [],
   "source": [
    "# url = 'https://www.zapimoveis.com.br/venda/casas/agr+sp+sao-paulo+regiao-do-centro/#{\"pagina\":\"1\",\"formato\":\"Lista\"}'\n",
    "url_centro = 'https://www.zapimoveis.com.br/venda/casas/agr+sp+sao-paulo+regiao-do-centro/'\n",
    "url_sul= 'https://www.zapimoveis.com.br/venda/casas/agr+sp+sao-paulo+zona-sul/'\n",
    "url_norte= 'https://www.zapimoveis.com.br/venda/casas/agr+sp+sao-paulo+zona-norte/'\n",
    "url_oeste= 'https://www.zapimoveis.com.br/venda/casas/agr+sp+sao-paulo+zona-oeste/'\n",
    "url_leste= 'https://www.zapimoveis.com.br/venda/casas/agr+sp+sao-paulo+zona-leste/'\n",
    "# url_compl = '#{\"pagina\":\"{0}\",\"formato\":\"Lista\"}'.format(num)"
   ]
  },
  {
   "cell_type": "code",
   "execution_count": null,
   "metadata": {},
   "outputs": [],
   "source": []
  },
  {
   "cell_type": "code",
   "execution_count": 3,
   "metadata": {},
   "outputs": [],
   "source": [
    "# vamos pegar o numero de paginas da url\n",
    "def numPag(url):\n",
    "    headers = requests.utils.default_headers()\n",
    "    headers.update({\n",
    "        'User-Agent': 'Mozilla/5.0 (X11; Ubuntu; Linux x86_64; rv:52.0) Gecko/20100101 Firefox/52.0',\n",
    "    })\n",
    "    r = requests.get(str(url), headers=headers)\n",
    "    soup = BeautifulSoup(r.content, 'lxml')\n",
    "    # numero de paginas\n",
    "    return int(soup.find('span',{'class':'pull-right num-of'}).text.replace('de ', '').replace('.', ''))"
   ]
  },
  {
   "cell_type": "code",
   "execution_count": 4,
   "metadata": {},
   "outputs": [],
   "source": [
    "def montaSoup(url):\n",
    "    headers = requests.utils.default_headers()\n",
    "    headers.update({\n",
    "        'User-Agent': 'Mozilla/5.0 (X11; Ubuntu; Linux x86_64; rv:52.0) Gecko/20100101 Firefox/52.0',\n",
    "    })\n",
    "    r = requests.get(url, headers=headers)\n",
    "    soup = BeautifulSoup(r.content, 'lxml')\n",
    "    return soup\n",
    "    sleep(2)"
   ]
  },
  {
   "cell_type": "code",
   "execution_count": 5,
   "metadata": {},
   "outputs": [],
   "source": [
    "def soup_url(url, num_pag):\n",
    "    lista = []\n",
    "    for i in range(1, num_pag+1):\n",
    "        url_compl = '#{\"pagina\":\"'+str(i)+'\",\"formato\":\"Lista\"}'\n",
    "        lista.append(url + url_compl)\n",
    "    return lista"
   ]
  },
  {
   "cell_type": "code",
   "execution_count": 6,
   "metadata": {},
   "outputs": [],
   "source": [
    "url_list_centro = soup_url(url_centro, numPag(url_centro))\n",
    "url_list_norte = soup_url(url_norte, numPag(url_norte))\n",
    "url_list_sul= soup_url(url_sul, numPag(url_sul))\n",
    "url_list_leste= soup_url(url_leste, numPag(url_leste))\n",
    "url_list_oeste= soup_url(url_oeste, numPag(url_oeste))"
   ]
  },
  {
   "cell_type": "code",
   "execution_count": 7,
   "metadata": {},
   "outputs": [
    {
     "name": "stdout",
     "output_type": "stream",
     "text": [
      "123 596 1112 699 781\n"
     ]
    }
   ],
   "source": [
    "print(len(url_list_centro),len(url_list_norte),len(url_list_sul),len(url_list_leste),len(url_list_oeste))"
   ]
  },
  {
   "cell_type": "code",
   "execution_count": 8,
   "metadata": {},
   "outputs": [
    {
     "name": "stdout",
     "output_type": "stream",
     "text": [
      "Wall time: 15.5 s\n"
     ]
    }
   ],
   "source": [
    "%%time\n",
    "lista_soup_centro = []\n",
    "lista_soup_sul = []\n",
    "lista_soup_norte = []\n",
    "lista_soup_leste = []\n",
    "lista_soup_oeste = []\n",
    "with concurrent.futures.ThreadPoolExecutor(max_workers=100) as a:\n",
    "    lista_soup_centro.append(list(a.map(montaSoup, url_list_centro)))"
   ]
  },
  {
   "cell_type": "code",
   "execution_count": 9,
   "metadata": {},
   "outputs": [
    {
     "name": "stdout",
     "output_type": "stream",
     "text": [
      "Wall time: 1min 22s\n"
     ]
    }
   ],
   "source": [
    "%%time\n",
    "with concurrent.futures.ThreadPoolExecutor(max_workers=100) as b:\n",
    "    lista_soup_sul.append(list(b.map(montaSoup, url_list_sul)))"
   ]
  },
  {
   "cell_type": "code",
   "execution_count": 10,
   "metadata": {},
   "outputs": [
    {
     "name": "stdout",
     "output_type": "stream",
     "text": [
      "Wall time: 33.2 s\n"
     ]
    }
   ],
   "source": [
    "%%time\n",
    "with concurrent.futures.ThreadPoolExecutor(max_workers=100) as c:\n",
    "    lista_soup_norte.append(list(c.map(montaSoup, url_list_norte)))"
   ]
  },
  {
   "cell_type": "code",
   "execution_count": 11,
   "metadata": {},
   "outputs": [
    {
     "name": "stdout",
     "output_type": "stream",
     "text": [
      "Wall time: 56.9 s\n"
     ]
    }
   ],
   "source": [
    "%%time\n",
    "with concurrent.futures.ThreadPoolExecutor(max_workers=100) as d:\n",
    "    lista_soup_leste.append(list(d.map(montaSoup, url_list_leste)))"
   ]
  },
  {
   "cell_type": "code",
   "execution_count": 12,
   "metadata": {},
   "outputs": [
    {
     "name": "stdout",
     "output_type": "stream",
     "text": [
      "Wall time: 55.4 s\n"
     ]
    }
   ],
   "source": [
    "%%time\n",
    "with concurrent.futures.ThreadPoolExecutor(max_workers=100) as e:\n",
    "    lista_soup_oeste.append(list(e.map(montaSoup, url_list_oeste)))"
   ]
  },
  {
   "cell_type": "code",
   "execution_count": 40,
   "metadata": {},
   "outputs": [],
   "source": [
    "lista_soup_centro_final = [j for i in lista_soup_centro for j in i]\n",
    "lista_soup_norte_final = [j for i in lista_soup_norte for j in i]\n",
    "lista_soup_sul_final = [j for i in lista_soup_sul for j in i]\n",
    "lista_soup_leste_final = [j for i in lista_soup_leste for j in i]\n",
    "lista_soup_oeste_final = [j for i in lista_soup_oeste for j in i]"
   ]
  },
  {
   "cell_type": "code",
   "execution_count": 7,
   "metadata": {},
   "outputs": [
    {
     "name": "stdout",
     "output_type": "stream",
     "text": [
      "Wall time: 500 µs\n"
     ]
    }
   ],
   "source": [
    "%%time\n",
    "# soup_list para uma unica lista com todos os soups ao inves de uma lista de listas\n",
    "flat_list = [item for sublist in soup_list for item in sublist if(str(type(item)) == \"<class 'bs4.element.Tag'>\")]\n",
    "# for sublist in soup_list:\n",
    "#     for item in sublist:\n",
    "#         flat_list.append(item)"
   ]
  },
  {
   "cell_type": "code",
   "execution_count": 44,
   "metadata": {},
   "outputs": [],
   "source": [
    "flat_lista_soup_centro = [item for sublist in lista_soup_centro_final for item in sublist if(str(type(item)) == \"<class 'bs4.element.Tag'>\")]\n",
    "flat_lista_soup_norte = [item for sublist in lista_soup_norte_final for item in sublist if(str(type(item)) == \"<class 'bs4.element.Tag'>\")]\n",
    "flat_lista_soup_sul = [item for sublist in lista_soup_sul_final for item in sublist if(str(type(item)) == \"<class 'bs4.element.Tag'>\")]\n",
    "flat_lista_soup_leste = [item for sublist in lista_soup_leste_final for item in sublist if(str(type(item)) == \"<class 'bs4.element.Tag'>\")]\n",
    "flat_lista_soup_oeste = [item for sublist in lista_soup_oeste_final for item in sublist if(str(type(item)) == \"<class 'bs4.element.Tag'>\")]"
   ]
  },
  {
   "cell_type": "code",
   "execution_count": 57,
   "metadata": {},
   "outputs": [],
   "source": [
    "article_list_norte = [ article for html in flat_lista_soup_norte for article in html.find_all('article', {'class':'minificha'})]\n",
    "article_list_sul = [ article for html in flat_lista_soup_sul for article in html.find_all('article', {'class':'minificha'})]\n",
    "article_list_leste = [ article for html in flat_lista_soup_leste for article in html.find_all('article', {'class':'minificha'})]\n",
    "article_list_oeste = [ article for html in flat_lista_soup_oeste for article in html.find_all('article', {'class':'minificha'})]\n",
    "article_list_centro = [ article for html in flat_lista_soup_centro for article in html.find_all('article', {'class':'minificha'})]"
   ]
  },
  {
   "cell_type": "code",
   "execution_count": 229,
   "metadata": {},
   "outputs": [],
   "source": [
    "def retornaListaInfo(articleLista, zona):\n",
    "    lista = []\n",
    "    list_remove = [0,0,0]\n",
    "    for x in articleLista:\n",
    "        preco = x.find('div',{'class':'preco'}).find('strong').text\n",
    "        info_casa = x.find('ul', {'class':'unstyled'}).find_all('li')\n",
    "        quartos = [i.text if 'quarto' in i.text else 0 for i in info_casa]\n",
    "        suites = [i.text if 'suíte' in i.text else 0 for i in info_casa]\n",
    "        vagas = [i.text if 'vaga' in i.text else 0 for i in info_casa]\n",
    "        m2 = [i.text if 'm2' in i.text else 0 for i in info_casa]\n",
    "        bairro = x.find('h2').find('strong').text\n",
    "        lista.append([preco.replace('.','').split(' ')[1], quartos, suites, vagas, m2, bairro.strip(), zona])\n",
    "    return lista"
   ]
  },
  {
   "cell_type": "code",
   "execution_count": 242,
   "metadata": {},
   "outputs": [
    {
     "name": "stdout",
     "output_type": "stream",
     "text": [
      "Wall time: 19.5 s\n"
     ]
    }
   ],
   "source": [
    "%%time\n",
    "lista_info_norte = retornaListaInfo(article_list_norte, 'norte')\n",
    "lista_info_sul = retornaListaInfo(article_list_sul, 'sul')\n",
    "lista_info_leste = retornaListaInfo(article_list_leste, 'leste')\n",
    "lista_info_oeste = retornaListaInfo(article_list_oeste, 'oeste')\n",
    "lista_info_centro = retornaListaInfo(article_list_centro, 'centro')"
   ]
  },
  {
   "cell_type": "code",
   "execution_count": 243,
   "metadata": {},
   "outputs": [],
   "source": [
    "label = ['preco', 'quartos', 'suites', 'vagas', 'm2', 'bairro', 'zona']"
   ]
  },
  {
   "cell_type": "code",
   "execution_count": 266,
   "metadata": {},
   "outputs": [],
   "source": [
    "df_norte = pd.DataFrame(data=lista_info_norte, columns=label)\n",
    "df_sul = pd.DataFrame(data=lista_info_sul, columns=label)\n",
    "df_leste = pd.DataFrame(data=lista_info_leste, columns=label)\n",
    "df_oeste = pd.DataFrame(data=lista_info_oeste, columns=label)\n",
    "df_centro = pd.DataFrame(data=lista_info_centro, columns=label)"
   ]
  },
  {
   "cell_type": "code",
   "execution_count": 267,
   "metadata": {},
   "outputs": [
    {
     "data": {
      "text/html": [
       "<div>\n",
       "<style>\n",
       "    .dataframe thead tr:only-child th {\n",
       "        text-align: right;\n",
       "    }\n",
       "\n",
       "    .dataframe thead th {\n",
       "        text-align: left;\n",
       "    }\n",
       "\n",
       "    .dataframe tbody tr th {\n",
       "        vertical-align: top;\n",
       "    }\n",
       "</style>\n",
       "<table border=\"1\" class=\"dataframe\">\n",
       "  <thead>\n",
       "    <tr style=\"text-align: right;\">\n",
       "      <th></th>\n",
       "      <th>preco</th>\n",
       "      <th>quartos</th>\n",
       "      <th>suites</th>\n",
       "      <th>vagas</th>\n",
       "      <th>m2</th>\n",
       "      <th>bairro</th>\n",
       "      <th>zona</th>\n",
       "    </tr>\n",
       "  </thead>\n",
       "  <tbody>\n",
       "    <tr>\n",
       "      <th>0</th>\n",
       "      <td>3200000</td>\n",
       "      <td>[4 quartos, 0, 0, 0]</td>\n",
       "      <td>[0, 4 suítes, 0, 0]</td>\n",
       "      <td>[0, 0, 3 vagas, 0]</td>\n",
       "      <td>[0, 0, 0, 420m2]</td>\n",
       "      <td>Pacaembu</td>\n",
       "      <td>centro</td>\n",
       "    </tr>\n",
       "    <tr>\n",
       "      <th>1</th>\n",
       "      <td>3500000</td>\n",
       "      <td>[4 quartos, 0, 0, 0]</td>\n",
       "      <td>[0, 1 suíte, 0, 0]</td>\n",
       "      <td>[0, 0, 5 vagas, 0]</td>\n",
       "      <td>[0, 0, 0, 301m2]</td>\n",
       "      <td>Pacaembu</td>\n",
       "      <td>centro</td>\n",
       "    </tr>\n",
       "    <tr>\n",
       "      <th>2</th>\n",
       "      <td>2400000</td>\n",
       "      <td>[4 quartos, 0, 0, 0]</td>\n",
       "      <td>[0, 3 suítes, 0, 0]</td>\n",
       "      <td>[0, 0, 6 vagas, 0]</td>\n",
       "      <td>[0, 0, 0, 293m2]</td>\n",
       "      <td>Jardim Paulista</td>\n",
       "      <td>centro</td>\n",
       "    </tr>\n",
       "    <tr>\n",
       "      <th>3</th>\n",
       "      <td>1500000</td>\n",
       "      <td>[5 quartos, 0, 0]</td>\n",
       "      <td>[0, 0, 0]</td>\n",
       "      <td>[0, 6 vagas, 0]</td>\n",
       "      <td>[0, 0, 300m2]</td>\n",
       "      <td>Ipiranga</td>\n",
       "      <td>centro</td>\n",
       "    </tr>\n",
       "    <tr>\n",
       "      <th>4</th>\n",
       "      <td>957000</td>\n",
       "      <td>[2 quartos, 0, 0]</td>\n",
       "      <td>[0, 0, 0]</td>\n",
       "      <td>[0, 1 vaga, 0]</td>\n",
       "      <td>[0, 0, 222m2]</td>\n",
       "      <td>Ipiranga</td>\n",
       "      <td>centro</td>\n",
       "    </tr>\n",
       "  </tbody>\n",
       "</table>\n",
       "</div>"
      ],
      "text/plain": [
       "     preco               quartos               suites               vagas  \\\n",
       "0  3200000  [4 quartos, 0, 0, 0]  [0, 4 suítes, 0, 0]  [0, 0, 3 vagas, 0]   \n",
       "1  3500000  [4 quartos, 0, 0, 0]   [0, 1 suíte, 0, 0]  [0, 0, 5 vagas, 0]   \n",
       "2  2400000  [4 quartos, 0, 0, 0]  [0, 3 suítes, 0, 0]  [0, 0, 6 vagas, 0]   \n",
       "3  1500000     [5 quartos, 0, 0]            [0, 0, 0]     [0, 6 vagas, 0]   \n",
       "4   957000     [2 quartos, 0, 0]            [0, 0, 0]      [0, 1 vaga, 0]   \n",
       "\n",
       "                 m2           bairro    zona  \n",
       "0  [0, 0, 0, 420m2]         Pacaembu  centro  \n",
       "1  [0, 0, 0, 301m2]         Pacaembu  centro  \n",
       "2  [0, 0, 0, 293m2]  Jardim Paulista  centro  \n",
       "3     [0, 0, 300m2]         Ipiranga  centro  \n",
       "4     [0, 0, 222m2]         Ipiranga  centro  "
      ]
     },
     "execution_count": 267,
     "metadata": {},
     "output_type": "execute_result"
    }
   ],
   "source": [
    "df_centro.head()"
   ]
  },
  {
   "cell_type": "code",
   "execution_count": null,
   "metadata": {},
   "outputs": [],
   "source": [
    "df_final = pd.concat([df_centro,df_leste,df_norte,df_oeste,df_sul], ignore_index=True)"
   ]
  },
  {
   "cell_type": "code",
   "execution_count": null,
   "metadata": {},
   "outputs": [],
   "source": [
    "df_final['quartos'] = df_final['quartos'].apply(lambda x: ','.join(map(str, x)))\n",
    "df_final['suites'] = df_final['suites'].apply(lambda x: ','.join(map(str, x)))\n",
    "df_final['vagas'] = df_final['vagas'].apply(lambda x: ','.join(map(str, x)))\n",
    "df_final['m2'] = df_final['m2'].apply(lambda x: ','.join(map(str, x)))"
   ]
  },
  {
   "cell_type": "code",
   "execution_count": null,
   "metadata": {},
   "outputs": [],
   "source": [
    "df_final.replace({'m2': ''}, regex=True, inplace=True)\n",
    "df_final.quartos.replace({' quartos':'', ' quarto':''}, regex=True, inplace=True)\n",
    "df_final.vagas.replace({' vagas':'',' vaga':''}, regex=True, inplace=True)\n",
    "df_final.suites.replace({' suítes':'',' suíte':'', 's':''}, regex=True, inplace=True)"
   ]
  },
  {
   "cell_type": "code",
   "execution_count": 350,
   "metadata": {},
   "outputs": [],
   "source": [
    "np.unique(df_final[['suites','quartos','vagas','m2']].values)"
   ]
  },
  {
   "cell_type": "code",
   "execution_count": 351,
   "metadata": {},
   "outputs": [],
   "source": [
    "df_final[['suites','quartos','vagas','m2']] = df_final[['suites','quartos','vagas','m2']].astype(int)"
   ]
  },
  {
   "cell_type": "code",
   "execution_count": 354,
   "metadata": {},
   "outputs": [],
   "source": [
    "df_final = pd.get_dummies(df_final, columns=['zona'])"
   ]
  },
  {
   "cell_type": "code",
   "execution_count": 361,
   "metadata": {},
   "outputs": [],
   "source": [
    "df_final.to_csv('DF_ZapIoveis.csv')"
   ]
  }
 ],
 "metadata": {
  "kernelspec": {
   "display_name": "Python 3",
   "language": "python",
   "name": "python3"
  },
  "language_info": {
   "codemirror_mode": {
    "name": "ipython",
    "version": 3
   },
   "file_extension": ".py",
   "mimetype": "text/x-python",
   "name": "python",
   "nbconvert_exporter": "python",
   "pygments_lexer": "ipython3",
   "version": "3.6.1"
  }
 },
 "nbformat": 4,
 "nbformat_minor": 2
}
