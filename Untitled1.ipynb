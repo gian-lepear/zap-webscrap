{
 "cells": [
  {
   "cell_type": "code",
   "execution_count": 1,
   "metadata": {},
   "outputs": [],
   "source": [
    "import geopy\n",
    "\n",
    "geolocalizador = geopy.geocoders.Nominatim()"
   ]
  },
  {
   "cell_type": "code",
   "execution_count": 2,
   "metadata": {},
   "outputs": [],
   "source": [
    "localizacao = geolocalizador.geocode(\"Rua Doutor Homem de Melo\")"
   ]
  },
  {
   "cell_type": "code",
   "execution_count": 4,
   "metadata": {},
   "outputs": [
    {
     "data": {
      "text/plain": [
       "-23.5327205"
      ]
     },
     "execution_count": 4,
     "metadata": {},
     "output_type": "execute_result"
    }
   ],
   "source": [
    "localizacao.latitude"
   ]
  },
  {
   "cell_type": "code",
   "execution_count": 5,
   "metadata": {},
   "outputs": [
    {
     "data": {
      "text/plain": [
       "-46.675325"
      ]
     },
     "execution_count": 5,
     "metadata": {},
     "output_type": "execute_result"
    }
   ],
   "source": [
    "localizacao.longitude"
   ]
  },
  {
   "cell_type": "code",
   "execution_count": null,
   "metadata": {},
   "outputs": [],
   "source": []
  },
  {
   "cell_type": "code",
   "execution_count": null,
   "metadata": {},
   "outputs": [],
   "source": []
  },
  {
   "cell_type": "code",
   "execution_count": null,
   "metadata": {},
   "outputs": [],
   "source": [
    "df_centro['quartos'] = df_centro['quartos'].apply(lambda x: ','.join(map(str, x)))\n",
    "df_centro['suites'] = df_centro['suites'].apply(lambda x: ','.join(map(str, x)))\n",
    "df_centro['vagas'] = df_centro['vagas'].apply(lambda x: ','.join(map(str, x)))\n",
    "df_centro['m2'] = df_centro['m2'].apply(lambda x: ','.join(map(str, x)))\n",
    "\n",
    "df_norte['quartos'] = df_norte['quartos'].apply(lambda x: ','.join(map(str, x)))\n",
    "df_norte['suites'] = df_norte['suites'].apply(lambda x: ','.join(map(str, x)))\n",
    "df_norte['vagas'] = df_norte['vagas'].apply(lambda x: ','.join(map(str, x)))\n",
    "df_norte['m2'] = df_norte['m2'].apply(lambda x: ','.join(map(str, x)))\n",
    "\n",
    "df_sul['quartos'] = df_sul['quartos'].apply(lambda x: ','.join(map(str, x)))\n",
    "df_sul['suites'] = df_sul['suites'].apply(lambda x: ','.join(map(str, x)))\n",
    "df_sul['vagas'] = df_sul['vagas'].apply(lambda x: ','.join(map(str, x)))\n",
    "df_sul['m2'] = df_sul['m2'].apply(lambda x: ','.join(map(str, x)))\n",
    "\n",
    "df_leste['quartos'] = df_leste['quartos'].apply(lambda x: ','.join(map(str, x)))\n",
    "df_leste['suites'] = df_leste['suites'].apply(lambda x: ','.join(map(str, x)))\n",
    "df_leste['vagas'] = df_leste['vagas'].apply(lambda x: ','.join(map(str, x)))\n",
    "df_leste['m2'] = df_leste['m2'].apply(lambda x: ','.join(map(str, x)))\n",
    "\n",
    "df_oeste['quartos'] = df_oeste['quartos'].apply(lambda x: ','.join(map(str, x)))\n",
    "df_oeste['suites'] = df_oeste['suites'].apply(lambda x: ','.join(map(str, x)))\n",
    "df_oeste['vagas'] = df_oeste['vagas'].apply(lambda x: ','.join(map(str, x)))\n",
    "df_oeste['m2'] = df_oeste['m2'].apply(lambda x: ','.join(map(str, x)))\n",
    "\n",
    "df_centro.replace({',0': ''}, regex=True, inplace=True)\n",
    "df_norte.replace({',0': ''}, regex=True, inplace=True)\n",
    "df_sul.replace({',0': ''}, regex=True,inplace=True)\n",
    "df_leste.replace({',0': ''}, regex=True, inplace=True)\n",
    "df_oeste.replace({',0': ''}, regex=True, inplace=True)\n",
    "\n",
    "df_centro.replace({'0,': ''}, regex=True, inplace=True)\n",
    "df_norte.replace({'0,': ''}, regex=True, inplace=True)\n",
    "df_sul.replace({'0,': ''}, regex=True,inplace=True)\n",
    "df_leste.replace({'0,': ''}, regex=True, inplace=True)\n",
    "df_oeste.replace({'0,': ''}, regex=True, inplace=True)\n",
    "\n",
    "print(df_centro.suites.unique())\n",
    "print(df_norte.suites.unique())\n",
    "print(df_sul.suites.unique())\n",
    "print(df_leste.suites.unique())\n",
    "print(df_oeste.suites.unique())"
   ]
  }
 ],
 "metadata": {
  "kernelspec": {
   "display_name": "Python 3",
   "language": "python",
   "name": "python3"
  },
  "language_info": {
   "codemirror_mode": {
    "name": "ipython",
    "version": 3
   },
   "file_extension": ".py",
   "mimetype": "text/x-python",
   "name": "python",
   "nbconvert_exporter": "python",
   "pygments_lexer": "ipython3",
   "version": "3.6.1"
  }
 },
 "nbformat": 4,
 "nbformat_minor": 2
}
